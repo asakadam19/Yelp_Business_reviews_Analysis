{
 "cells": [
  {
   "cell_type": "code",
   "execution_count": 2,
   "id": "4a332c1f-a0de-4bd3-bde0-bed4fea08747",
   "metadata": {},
   "outputs": [],
   "source": [
    "import pandas as pd\n",
    "import json"
   ]
  },
  {
   "cell_type": "code",
   "execution_count": 3,
   "id": "0ec90374-783a-4b88-9a03-59e5ed05e859",
   "metadata": {},
   "outputs": [],
   "source": [
    "input_file = 'yelp_academic_dataset_review.json'\n",
    "output_prefix = 'split_file_'\n",
    "num_files = 10"
   ]
  },
  {
   "cell_type": "code",
   "execution_count": 5,
   "id": "d739a668-4b41-4e48-b68b-a9db4bb46047",
   "metadata": {},
   "outputs": [
    {
     "name": "stdout",
     "output_type": "stream",
     "text": [
      "Total Lines: 6990280, Lines per file: 699028\n",
      "JSON file has successfully split into smaller parts\n"
     ]
    }
   ],
   "source": [
    "with open(input_file, 'r', encoding='utf8') as f:\n",
    "    total_lines = sum(1 for _ in f)\n",
    "\n",
    "lines_per_file = total_lines // num_files\n",
    "\n",
    "print(f\"Total Lines: {total_lines}, Lines per file: {lines_per_file}\")\n",
    "\n",
    "with open(input_file, \"r\", encoding=\"utf8\") as f:\n",
    "    for i in range(num_files):\n",
    "        output_filename = f\"{output_prefix}{i+1}.json\"\n",
    "\n",
    "        with open(output_filename, \"w\", encoding='utf8') as out_file:\n",
    "            for j in range(lines_per_file):\n",
    "                line = f.readline()\n",
    "                if not line:\n",
    "                    break\n",
    "                out_file.write(line)\n",
    "print(f\"JSON file has successfully split into smaller parts\")"
   ]
  },
  {
   "cell_type": "code",
   "execution_count": 6,
   "id": "fc5c7455-4ad5-4327-b205-706d37dd13a5",
   "metadata": {},
   "outputs": [
    {
     "name": "stdout",
     "output_type": "stream",
     "text": [
      "Yelp_Business_Reviews.ipynb        split_file_5.json\n",
      "split_file_1.json                  split_file_6.json\n",
      "split_file_10.json                 split_file_7.json\n",
      "split_file_2.json                  split_file_8.json\n",
      "split_file_3.json                  split_file_9.json\n",
      "split_file_4.json                  yelp_academic_dataset_review.json\n"
     ]
    }
   ],
   "source": [
    "ls"
   ]
  },
  {
   "cell_type": "code",
   "execution_count": null,
   "id": "e5495b6c-8453-46d6-aa7f-ec5c253f10e3",
   "metadata": {},
   "outputs": [],
   "source": []
  }
 ],
 "metadata": {
  "kernelspec": {
   "display_name": "Python 3 (ipykernel)",
   "language": "python",
   "name": "python3"
  },
  "language_info": {
   "codemirror_mode": {
    "name": "ipython",
    "version": 3
   },
   "file_extension": ".py",
   "mimetype": "text/x-python",
   "name": "python",
   "nbconvert_exporter": "python",
   "pygments_lexer": "ipython3",
   "version": "3.11.7"
  }
 },
 "nbformat": 4,
 "nbformat_minor": 5
}
